{
 "cells": [
  {
   "cell_type": "code",
   "execution_count": 1,
   "id": "0a0b0e1a-ec25-45a8-87ff-0c3274c2d420",
   "metadata": {},
   "outputs": [
    {
     "name": "stdout",
     "output_type": "stream",
     "text": [
      "{'mean': 3.4285714285714284, 'median': 3, 'mode': 1}\n"
     ]
    }
   ],
   "source": [
    "def func(s):\n",
    "    sorted_list = sorted(s)\n",
    "    length = len(s)\n",
    "    summ = sum(s)\n",
    "    mean = summ / length\n",
    "    mode = max(s, key=s.count)\n",
    "\n",
    "    mid = length // 2\n",
    "    if length % 2 == 0:\n",
    "        median = (sorted_list[mid - 1] + sorted_list[mid]) / 2\n",
    "    else:\n",
    "        median = sorted_list[mid]\n",
    "\n",
    "    return {\"mean\": mean, \"median\": median, \"mode\": mode}\n",
    "\n",
    "print(func([0, 1, 1, 10, 5, 4, 3]))\n"
   ]
  },
  {
   "cell_type": "code",
   "execution_count": 2,
   "id": "52ed667f-7e6b-4dfc-b948-56cbfcbc9da9",
   "metadata": {},
   "outputs": [
    {
     "name": "stdout",
     "output_type": "stream",
     "text": [
      "Broodmother\n"
     ]
    }
   ],
   "source": [
    "with open(\"dota_hero_stats.csv\", \"r\") as file:\n",
    "    file_content = file.read()\n",
    "\n",
    "\n",
    "def parse_csv(file_content: str) -> list[dict]:\n",
    "    a = 0\n",
    "    heroes = []\n",
    "    for line in file_content:\n",
    "        if (a == 0):\n",
    "            a = a + 1\n",
    "        else:\n",
    "            line = line.replace('[', '').replace(']', '').replace('\"', '').replace(\"'\", '').replace(\"\\n\", '')\n",
    "            heroes.append({\n",
    "                \"#\": line.split(\",\")[0],\n",
    "                \"attack_type\": line.split(\",\")[1],\n",
    "                \"id\": line.split(\",\")[2],\n",
    "                \"legs\": line.split(\",\")[3],\n",
    "                \"localized_name\": line.split(\",\")[4],\n",
    "                \"name\": line.split(\",\")[5],\n",
    "                \"primary_attr\": line.split(\",\")[6],\n",
    "                \"roles\": line.split(\",\")[7:]\n",
    "            })\n",
    "    return heroes\n",
    "\n",
    "with open(\"dota_hero_stats.csv\", \"r\") as file:\n",
    "    heroes = parse_csv(file)\n",
    "    max = 0\n",
    "    for i in heroes:\n",
    "        count = int(i[\"legs\"])\n",
    "        if count > max:\n",
    "            name = i[\"localized_name\"]\n",
    "            max = count\n",
    "    print(name)\n"
   ]
  },
  {
   "cell_type": "code",
   "execution_count": null,
   "id": "c40dfc90-a155-4bc3-890e-bcb7c864fa7a",
   "metadata": {},
   "outputs": [],
   "source": []
  }
 ],
 "metadata": {
  "kernelspec": {
   "display_name": "Python 3 (ipykernel)",
   "language": "python",
   "name": "python3"
  },
  "language_info": {
   "codemirror_mode": {
    "name": "ipython",
    "version": 3
   },
   "file_extension": ".py",
   "mimetype": "text/x-python",
   "name": "python",
   "nbconvert_exporter": "python",
   "pygments_lexer": "ipython3",
   "version": "3.12.1"
  }
 },
 "nbformat": 4,
 "nbformat_minor": 5
}
